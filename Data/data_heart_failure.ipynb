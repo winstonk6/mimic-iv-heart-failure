{
 "cells": [
  {
   "cell_type": "markdown",
   "metadata": {},
   "source": [
    "# Data Dictionary\n",
    "\n",
    "- Patient info:\n",
    "    - `subject_id`: Unique identifier which specifies an individual patient\n",
    "    - `gender`: Genotypical sex of the patient\n",
    "- Admissions info: Documented at the most recent hospital admission\n",
    "    - `age`\n",
    "    - `insurance`\n",
    "    - `language`\n",
    "    - `marital_status`\n",
    "    - `race`\n",
    "- Morbidities: Indicators for whether a patient was ever diagnosed with the disease\n",
    "    - `heart_failure`\n",
    "    - `hypertension`\n",
    "    - `atrial_fibrillation`\n",
    "    - `diabetes_type_1`\n",
    "    - `diabetes_type_2`\n",
    "    - `copd`: Chronic Obstructive Pulmonary Disease\n",
    "    - `asthma`\n",
    "    - `liver_disease`\n",
    "    - `ckd`: Chronic Kidney Disease\n",
    "    - `cancer`: Malignant Neoplasms\n",
    "    - `depression`\n",
    "    - `osteoarthritis`\n",
    "    - `anemia` \n",
    "- Medication history: Indicators for whether a patient was ever prescribed the medication\n",
    "    - ACE Inhibitors:\n",
    "        - `enalapril`\n",
    "        - `lisinopril`\n",
    "        - `ramipril`\n",
    "    - Beta-Blockers:\n",
    "        - `carvedilol`\n",
    "        - `metoprolol_succinate`\n",
    "        - `bisoprolol`\n",
    "    - Diuretics:\n",
    "        - `furosemide`\n",
    "        - `bumetanide`\n",
    "        - `spironolactone`\n",
    "    - Anticoagulants:\n",
    "        - `warfarin`\n",
    "        - `apixaban`\n",
    "        - `rivaroxaban`\n",
    "- Vital signs and lab measurements: The last measurement recorded for a patient. Lab tests are measured from serum.\n",
    "    - `bp_systolic`: Systolic blood pressure\n",
    "    - `bp_diastolic`: Diastolic blood pressure\n",
    "    - `oxygen`: Blood oxygen saturation (%)\n",
    "    - `nt_probnp`: (pg/mL)\n",
    "    - `creatinine`: (mg/dL)\n",
    "    - `bun`: Blood urea nitrogen (mg/dL)\n",
    "    - `sodium`: (mEq/L)\n",
    "    - `potassium`: (mEq/L)\n",
    "    - `ast`: Aspartate transaminase (IU/L)\n",
    "    - `alt`: Alanine transaminase (IU/L)\n",
    "    - `troponin`: Troponin T (ng/mL)\n",
    "    - Complete blood count\n",
    "        - `rbc`: Red blood cell count (10^6 cells / μL)\n",
    "        - `hgb`: Hemoglobin concentration (g/dL)\n",
    "        - `hct`: Hematocrit (%)\n",
    "        - `mcv`: Mean corpuscular volume (fL)\n",
    "        - `mch`: Mean corpuscular hemoglobin (pg/cell)\n",
    "        - `mchc`: Mean corpuscular hemoglobin concentration (g/dL or %)\n",
    "        - `rdw`: Red blood cell distribution width (%)\n",
    "        - `plt`: Platelet count (10^3 cells / μL)\n",
    "        - `wbc`: White blood cell count (10^3 cells / μL)\n",
    "        - White blood cell differential: (%)\n",
    "            - `neutrophil_p`\n",
    "            - `lymphocyte_p`\n",
    "            - `monocyte_p`\n",
    "            - `eosinophil_p`\n",
    "            - `basophil_p`\n",
    "            - `immature_gran_p`: Immature granulocytes\n",
    "        - White blood cell subtype counts: (10^3 cells / μL)\n",
    "            - `neutrophil_c`\n",
    "            - `lymphocyte_c`\n",
    "            - `monocyte_c`\n",
    "            - `eosinophil_c`\n",
    "            - `basophil_c`"
   ]
  },
  {
   "cell_type": "markdown",
   "metadata": {},
   "source": [
    "# Database Setup\n",
    "\n",
    "Follow instructions [here](https://github.com/MIT-LCP/mimic-code/tree/main/mimic-iv/buildmimic/duckdb) to create a DuckDB database file."
   ]
  },
  {
   "cell_type": "code",
   "execution_count": null,
   "metadata": {},
   "outputs": [],
   "source": [
    "import duckdb\n",
    "import polars as pl\n",
    "import polars.selectors as cs"
   ]
  },
  {
   "cell_type": "code",
   "execution_count": null,
   "metadata": {},
   "outputs": [],
   "source": [
    "con = duckdb.connect(\"mimic4.db\")\n",
    "\n",
    "# Query MIMIC-IV dataset\n",
    "def q(query: str, con: duckdb.duckdb.DuckDBPyConnection = con):\n",
    "    return con.sql(query)\n",
    "\n",
    "# View column information for a table\n",
    "def table_info(table: str, con: duckdb.duckdb.DuckDBPyConnection = con):\n",
    "    return con.sql(f\"PRAGMA table_info('mimiciv_hosp.{table}')\")\n",
    "\n",
    "# Count number of lab events for itemid(s)\n",
    "def lab_count(itemid, con: duckdb.duckdb.DuckDBPyConnection = con):\n",
    "    if isinstance(itemid, int):\n",
    "        return con.sql(f\"SELECT COUNT(*) FROM mimiciv_hosp.labevents WHERE itemid = {itemid}\")\n",
    "    else:\n",
    "        return con.sql(f\"SELECT itemid, COUNT(*) FROM mimiciv_hosp.labevents WHERE itemid IN {tuple(itemid)} GROUP BY itemid\")\n",
    "\n",
    "# View units of lab events for itemid(s)\n",
    "def lab_unit(itemid, con: duckdb.duckdb.DuckDBPyConnection = con):\n",
    "    if isinstance(itemid, int):\n",
    "        return(con.sql(f\"SELECT DISTINCT valueuom FROM mimiciv_hosp.labevents WHERE itemid = {itemid}\"))\n",
    "    else:\n",
    "        return(con.sql(f\"SELECT DISTINCT valueuom FROM mimiciv_hosp.labevents WHERE itemid IN {tuple(itemid)}\"))\n",
    "\n",
    "# Get the last lab measurement for each admission for itemid(s)\n",
    "def lab_table_last(itemid, colname: str):\n",
    "    if isinstance(itemid, int):\n",
    "        return q(f\"\"\"\n",
    "            WITH measure AS (\n",
    "                SELECT subject_id, charttime, valuenum,\n",
    "                    ROW_NUMBER() OVER (PARTITION BY subject_id ORDER BY charttime) AS measure_num\n",
    "                FROM mimiciv_hosp.labevents \n",
    "                WHERE itemid = {itemid} AND valuenum NOT NULL\n",
    "            ),\n",
    "            max_measure AS (\n",
    "                SELECT *, MAX(measure_num) OVER (PARTITION BY subject_id) AS max_num\n",
    "                FROM measure\n",
    "            )\n",
    "            SELECT subject_id, valuenum AS {colname}\n",
    "            FROM max_measure\n",
    "            WHERE measure_num = max_num\n",
    "            \"\"\")\n",
    "    else:\n",
    "        return q(f\"\"\"\n",
    "            WITH measure AS (\n",
    "                SELECT subject_id, charttime, valuenum,\n",
    "                    ROW_NUMBER() OVER (PARTITION BY subject_id ORDER BY charttime) AS measure_num\n",
    "                FROM mimiciv_hosp.labevents \n",
    "                WHERE itemid IN {tuple(itemid)} AND valuenum NOT NULL\n",
    "            ),\n",
    "            max_measure AS (\n",
    "                SELECT *, MAX(measure_num) OVER (PARTITION BY subject_id) AS max_num\n",
    "                FROM measure\n",
    "            )\n",
    "            SELECT subject_id, valuenum AS {colname}\n",
    "            FROM max_measure\n",
    "            WHERE measure_num = max_num\n",
    "            \"\"\")\n",
    "    \n",
    "# Get the last lab measurement for each admission for itemid(s), and convert WBC counts from # cells/uL to 10^3 cells/uL\n",
    "def lab_table_last_wbc(itemid, colname: str):\n",
    "    if isinstance(itemid, int):\n",
    "        return q(f\"\"\"\n",
    "            WITH measure AS (\n",
    "                SELECT subject_id, charttime, \n",
    "                    IF(valueuom = '#/uL', valuenum/1000, valuenum) AS valuenum,\n",
    "                    ROW_NUMBER() OVER (PARTITION BY subject_id ORDER BY charttime) AS measure_num\n",
    "                FROM mimiciv_hosp.labevents \n",
    "                WHERE itemid = {itemid} AND valuenum NOT NULL\n",
    "            ),\n",
    "            max_measure AS (\n",
    "                SELECT *, MAX(measure_num) OVER (PARTITION BY subject_id) AS max_num\n",
    "                FROM measure\n",
    "            )\n",
    "            SELECT subject_id, valuenum AS {colname}\n",
    "            FROM max_measure\n",
    "            WHERE measure_num = max_num\n",
    "            \"\"\")\n",
    "    else:\n",
    "        return q(f\"\"\"\n",
    "            WITH measure AS (\n",
    "                SELECT subject_id, charttime, \n",
    "                    IF(valueuom = '#/uL', valuenum/1000, valuenum) AS valuenum,\n",
    "                    ROW_NUMBER() OVER (PARTITION BY subject_id ORDER BY charttime) AS measure_num\n",
    "                FROM mimiciv_hosp.labevents \n",
    "                WHERE itemid IN {tuple(itemid)} AND valuenum NOT NULL\n",
    "            ),\n",
    "            max_measure AS (\n",
    "                SELECT *, MAX(measure_num) OVER (PARTITION BY subject_id) AS max_num\n",
    "                FROM measure\n",
    "            )\n",
    "            SELECT subject_id, valuenum AS {colname}\n",
    "            FROM max_measure\n",
    "            WHERE measure_num = max_num\n",
    "            \"\"\")\n"
   ]
  },
  {
   "cell_type": "markdown",
   "metadata": {},
   "source": [
    "# Create Dataset"
   ]
  },
  {
   "cell_type": "markdown",
   "metadata": {},
   "source": [
    "## Demographics"
   ]
  },
  {
   "cell_type": "code",
   "execution_count": null,
   "metadata": {},
   "outputs": [],
   "source": [
    "# age = admission time - anchor_year + anchor_age\n",
    "# Unknown race: 'PATIENT DECLINED TO ANSWER', 'UNABLE TO OBTAIN', 'UNKNOWN', null\n",
    "demographics = q(\n",
    "\"\"\"\n",
    "WITH demo AS (\n",
    "    SELECT subject_id, gender, hadm_id, admittime, insurance, language, \n",
    "        IF(marital_status IS NULL, 'UNKNOWN', marital_status) AS marital_status,\n",
    "        IF(race IN ('PATIENT DECLINED TO ANSWER', 'UNABLE TO OBTAIN', 'UNKNOWN', NULL), 'UNKNOWN', race) AS race,\n",
    "        anchor_age + DATE_PART('year', AGE(admittime, MAKE_TIMESTAMP(anchor_year, 1, 1, 0, 0, 0))) AS age,\n",
    "    FROM mimiciv_hosp.admissions\n",
    "    LEFT JOIN mimiciv_hosp.patients\n",
    "    USING (subject_id)\n",
    "),\n",
    "demo_max_time AS (\n",
    "    SELECT *, MAX(admittime) OVER (PARTITION BY subject_id) AS max_time\n",
    "    FROM demo\n",
    ")\n",
    "SELECT subject_id, gender, insurance, language, marital_status, race, age\n",
    "FROM demo_max_time\n",
    "WHERE admittime = max_time;\n",
    "\"\"\")"
   ]
  },
  {
   "cell_type": "markdown",
   "metadata": {},
   "source": [
    "## Diagnoses"
   ]
  },
  {
   "cell_type": "code",
   "execution_count": null,
   "metadata": {},
   "outputs": [],
   "source": [
    "# Create indicator variables for whether a certain disease was diagnosed for an admission\n",
    "# 0 means no diagnosis, 1 means there was a diagnosis.\n",
    "diagnoses = q(\"\"\"\n",
    "SELECT subject_id,\n",
    "MAX(CASE \n",
    "        WHEN icd_version = 9 AND icd_code LIKE '428%' THEN 1\n",
    "        WHEN icd_version = 10 AND icd_code LIKE 'I50%' THEN 1\n",
    "        ELSE 0\n",
    "    END\n",
    ") AS heart_failure,\n",
    "\n",
    "MAX(CASE \n",
    "        WHEN icd_version = 9 AND icd_code LIKE '401%' THEN 1\n",
    "        WHEN icd_version = 10 AND icd_code LIKE 'I10%' THEN 1\n",
    "        ELSE 0\n",
    "    END\n",
    ") AS hypertension,\n",
    "\n",
    "MAX(CASE \n",
    "        WHEN icd_version = 9 AND icd_code = '42731' THEN 1\n",
    "        WHEN icd_version = 10 AND icd_code LIKE 'I48%' THEN 1\n",
    "        ELSE 0\n",
    "    END \n",
    ") AS atrial_fibrillation,\n",
    "\n",
    "MAX(CASE\n",
    "        WHEN icd_version = 9 AND icd_code LIKE '250_1' THEN 1\n",
    "        WHEN icd_version = 10 AND icd_code LIKE 'E10%' THEN 1\n",
    "        ELSE 0\n",
    "    END\n",
    ") AS diabetes_type_1,\n",
    "\n",
    "MAX(CASE\n",
    "        WHEN icd_version = 9 AND icd_code LIKE '250_0' THEN 1\n",
    "        WHEN icd_version = 10 AND icd_code LIKE 'E11%' THEN 1\n",
    "        ELSE 0\n",
    "    END\n",
    ") AS diabetes_type_2,\n",
    "\n",
    "MAX(CASE\n",
    "        WHEN icd_version = 9 AND icd_code LIKE '496%' THEN 1\n",
    "        WHEN icd_version = 10 AND icd_code LIKE 'J44%' THEN 1\n",
    "        ELSE 0\n",
    "    END\n",
    ") AS copd,\n",
    "\n",
    "MAX(CASE\n",
    "        WHEN icd_version = 9 AND icd_code LIKE '493%' THEN 1\n",
    "        WHEN icd_version = 10 AND icd_code LIKE 'J45%' THEN 1\n",
    "        ELSE 0\n",
    "    END\n",
    ") AS asthma,\n",
    "\n",
    "MAX(CASE\n",
    "        WHEN icd_version = 9 AND icd_code LIKE '571%' THEN 1\n",
    "        WHEN icd_version = 10 AND icd_code LIKE 'K7%' THEN 1\n",
    "        ELSE 0\n",
    "    END\n",
    ") AS liver_disease,\n",
    "\n",
    "MAX(CASE\n",
    "        WHEN icd_version = 9 AND (\n",
    "                icd_code LIKE '403%' OR \n",
    "                icd_code LIKE '404%' OR \n",
    "                icd_code LIKE '585%') THEN 1\n",
    "        WHEN icd_version = 10 AND icd_code LIKE 'N18%' THEN 1\n",
    "        ELSE 0\n",
    "    END\n",
    ") AS ckd,\n",
    "\n",
    "MAX(CASE \n",
    "        WHEN icd_version = 9 AND (\n",
    "                icd_code LIKE '14%' OR \n",
    "                icd_code LIKE '15%' OR \n",
    "                icd_code LIKE '16%' OR \n",
    "                icd_code LIKE '17%' OR \n",
    "                icd_code LIKE '18%' OR \n",
    "                icd_code LIKE '19%' OR \n",
    "                icd_code LIKE '20%' OR \n",
    "                icd_code LIKE '21%' OR \n",
    "                icd_code LIKE '22%' OR \n",
    "                icd_code LIKE '23%') THEN 1\n",
    "        WHEN icd_version = 10 AND (\n",
    "                icd_code LIKE 'C%' OR \n",
    "                icd_code LIKE 'D0%' OR \n",
    "                icd_code LIKE 'D1%' OR\n",
    "                icd_code LIKE 'D2%' OR \n",
    "                icd_code LIKE 'D3%' OR\n",
    "                icd_code LIKE 'D4%') THEN 1\n",
    "        ELSE 0\n",
    "    END\n",
    ") AS cancer,\n",
    "\n",
    "MAX(CASE \n",
    "        WHEN icd_version = 9 AND (\n",
    "                icd_code LIKE '2962%' OR \n",
    "                icd_code LIKE '2963%' OR \n",
    "                icd_code LIKE '311%') THEN 1\n",
    "        WHEN icd_version = 10 AND (\n",
    "                icd_code LIKE 'F32%' OR\n",
    "                icd_code LIKE 'F33%') THEN 1\n",
    "        ELSE 0\n",
    "    END\n",
    ") AS depression,\n",
    "\n",
    "MAX(CASE\n",
    "        WHEN icd_version = 9 AND icd_code LIKE '715%' THEN 1\n",
    "        WHEN icd_version = 10 AND (\n",
    "                icd_code LIKE 'M15%' OR\n",
    "                icd_code LIKE 'M16%' OR\n",
    "                icd_code LIKE 'M17%' OR\n",
    "                icd_code LIKE 'M18%' OR\n",
    "                icd_code LIKE 'M19%') THEN 1\n",
    "        ELSE 0\n",
    "    END\n",
    ") AS osteoarthritis,\n",
    "\n",
    "MAX(CASE\n",
    "        WHEN icd_version = 9 AND (\n",
    "                icd_code LIKE '280%' OR\n",
    "                icd_code LIKE '281%' OR\n",
    "                icd_code LIKE '282%' OR\n",
    "                icd_code LIKE '283%' OR\n",
    "                icd_code LIKE '284%' OR\n",
    "                icd_code LIKE '285%') THEN 1\n",
    "        WHEN icd_version = 10 AND (\n",
    "                icd_code LIKE 'D5%' OR\n",
    "                icd_code LIKE 'D60%' OR\n",
    "                icd_code LIKE 'D61%' OR\n",
    "                icd_code LIKE 'D62%' OR\n",
    "                icd_code LIKE 'D63%' OR\n",
    "                icd_code LIKE 'D64%') THEN 1\n",
    "        ELSE 0\n",
    "    END\n",
    ") AS anemia\n",
    "\n",
    "FROM mimiciv_hosp.diagnoses_icd\n",
    "GROUP BY subject_id;\n",
    "\"\"\")"
   ]
  },
  {
   "cell_type": "markdown",
   "metadata": {},
   "source": [
    "## Medications"
   ]
  },
  {
   "cell_type": "code",
   "execution_count": null,
   "metadata": {},
   "outputs": [],
   "source": [
    "# Create indicator variables for whether a patient was ever prescribed a medication. Does not consider time of prescription.\n",
    "medications = q(\"\"\"\n",
    "SELECT subject_id,\n",
    "    MAX(IF(LOWER(medication) LIKE '%enalapril%', 1, 0))             AS enalapril,\n",
    "    MAX(IF(LOWER(medication) LIKE '%lisinopril%', 1, 0))            AS lisinopril,\n",
    "    MAX(IF(LOWER(medication) LIKE '%ramipril%', 1, 0))              AS ramipril,\n",
    "    \n",
    "    MAX(IF(LOWER(medication) LIKE '%carvedilol%', 1, 0))            AS carvedilol,\n",
    "    MAX(IF(LOWER(medication) LIKE '%metoprolol succinate%', 1, 0))  AS metoprolol_succinate,\n",
    "    MAX(IF(LOWER(medication) LIKE '%bisoprolol%', 1, 0))            AS bisoprolol,\n",
    "    \n",
    "    MAX(IF(LOWER(medication) LIKE '%furosemide%', 1, 0))            AS furosemide,\n",
    "    MAX(IF(LOWER(medication) LIKE '%bumetanide%', 1, 0))            AS bumetanide,\n",
    "    MAX(IF(LOWER(medication) LIKE '%spironolactone%', 1, 0))        AS spironolactone,\n",
    "    \n",
    "    MAX(IF(LOWER(medication) LIKE '%warfarin%', 1, 0))              AS warfarin,\n",
    "    MAX(IF(LOWER(medication) LIKE '%apixaban%', 1, 0))              AS apixaban,\n",
    "    MAX(IF(LOWER(medication) LIKE '%rivaroxaban%', 1, 0))           AS rivaroxaban\n",
    "\n",
    "FROM mimiciv_hosp.pharmacy\n",
    "GROUP BY subject_id;\n",
    "\"\"\")"
   ]
  },
  {
   "cell_type": "markdown",
   "metadata": {},
   "source": [
    "## Vital Signs / Lab Results"
   ]
  },
  {
   "cell_type": "markdown",
   "metadata": {},
   "source": [
    "### Lab Result Keys"
   ]
  },
  {
   "cell_type": "code",
   "execution_count": null,
   "metadata": {},
   "outputs": [],
   "source": [
    "q(\"\"\"\n",
    "SELECT * \n",
    "FROM mimiciv_hosp.d_labitems \n",
    "WHERE LOWER(label) LIKE '%oxygen%'\n",
    "\"\"\")"
   ]
  },
  {
   "cell_type": "code",
   "execution_count": null,
   "metadata": {},
   "outputs": [],
   "source": [
    "q(\"\"\"\n",
    "SELECT * \n",
    "FROM mimiciv_hosp.d_labitems \n",
    "WHERE LOWER(label) LIKE '%bnp%' AND fluid = 'Blood'\n",
    "\"\"\")"
   ]
  },
  {
   "cell_type": "code",
   "execution_count": null,
   "metadata": {},
   "outputs": [],
   "source": [
    "q(\"\"\"\n",
    "SELECT * \n",
    "FROM mimiciv_hosp.d_labitems \n",
    "WHERE LOWER(label) LIKE '%creatinine%' AND (fluid = 'Blood' OR LOWER(label) LIKE '%serum%');\n",
    "\"\"\")"
   ]
  },
  {
   "cell_type": "code",
   "execution_count": null,
   "metadata": {},
   "outputs": [],
   "source": [
    "q(\"\"\"\n",
    "SELECT * \n",
    "FROM mimiciv_hosp.d_labitems \n",
    "WHERE LOWER(label) LIKE '%urea%' AND fluid = 'Blood';\n",
    "\"\"\")"
   ]
  },
  {
   "cell_type": "code",
   "execution_count": null,
   "metadata": {},
   "outputs": [],
   "source": [
    "q(\"\"\"\n",
    "SELECT * \n",
    "FROM mimiciv_hosp.d_labitems \n",
    "WHERE LOWER(label) LIKE '%sodium%' AND fluid = 'Blood';\n",
    "\"\"\")"
   ]
  },
  {
   "cell_type": "code",
   "execution_count": null,
   "metadata": {},
   "outputs": [],
   "source": [
    "q(\"\"\"\n",
    "SELECT * \n",
    "FROM mimiciv_hosp.d_labitems \n",
    "WHERE LOWER(label) LIKE '%potassium%' AND fluid = 'Blood';\n",
    "\"\"\")"
   ]
  },
  {
   "cell_type": "code",
   "execution_count": null,
   "metadata": {},
   "outputs": [],
   "source": [
    "q(\"\"\"\n",
    "SELECT * \n",
    "FROM mimiciv_hosp.d_labitems \n",
    "WHERE LOWER(label) LIKE '%asparate%';\n",
    "\"\"\")"
   ]
  },
  {
   "cell_type": "code",
   "execution_count": null,
   "metadata": {},
   "outputs": [],
   "source": [
    "q(\"\"\"\n",
    "SELECT * \n",
    "FROM mimiciv_hosp.d_labitems \n",
    "WHERE LOWER(label) LIKE '%alanine%';\n",
    "\"\"\")"
   ]
  },
  {
   "cell_type": "code",
   "execution_count": null,
   "metadata": {},
   "outputs": [],
   "source": [
    "q(\"\"\"\n",
    "SELECT * \n",
    "FROM mimiciv_hosp.d_labitems \n",
    "WHERE LOWER(label) LIKE '%tropo%'\n",
    "ORDER BY label;\n",
    "\"\"\")"
   ]
  },
  {
   "cell_type": "code",
   "execution_count": null,
   "metadata": {},
   "outputs": [],
   "source": [
    "q(\"\"\"\n",
    "SELECT * \n",
    "FROM mimiciv_hosp.d_labitems \n",
    "WHERE LOWER(label) LIKE 'hemoglobin' AND fluid = 'Blood';\n",
    "\"\"\")"
   ]
  },
  {
   "cell_type": "code",
   "execution_count": null,
   "metadata": {},
   "outputs": [],
   "source": [
    "q(\"\"\"\n",
    "SELECT * \n",
    "FROM mimiciv_hosp.d_labitems \n",
    "WHERE (LOWER(label) LIKE '%hematocrit%' OR LOWER(label) LIKE '%hct%') AND fluid = 'Blood';\n",
    "\"\"\")"
   ]
  },
  {
   "cell_type": "code",
   "execution_count": null,
   "metadata": {},
   "outputs": [],
   "source": [
    "q(\"\"\"\n",
    "SELECT * \n",
    "FROM mimiciv_hosp.d_labitems \n",
    "WHERE LOWER(label) LIKE '%mcv%';\n",
    "\"\"\")"
   ]
  },
  {
   "cell_type": "code",
   "execution_count": null,
   "metadata": {},
   "outputs": [],
   "source": [
    "q(\"\"\"\n",
    "SELECT * \n",
    "FROM mimiciv_hosp.d_labitems \n",
    "WHERE LOWER(label) LIKE 'mch';\n",
    "\"\"\")"
   ]
  },
  {
   "cell_type": "code",
   "execution_count": null,
   "metadata": {},
   "outputs": [],
   "source": [
    "q(\"\"\"\n",
    "SELECT * \n",
    "FROM mimiciv_hosp.d_labitems \n",
    "WHERE LOWER(label) LIKE 'mchc';\n",
    "\"\"\")"
   ]
  },
  {
   "cell_type": "code",
   "execution_count": null,
   "metadata": {},
   "outputs": [],
   "source": [
    "q(\"\"\"\n",
    "SELECT * \n",
    "FROM mimiciv_hosp.d_labitems \n",
    "WHERE LOWER(label) LIKE 'rdw';\n",
    "\"\"\")"
   ]
  },
  {
   "cell_type": "code",
   "execution_count": null,
   "metadata": {},
   "outputs": [],
   "source": [
    "q(\"\"\"\n",
    "SELECT * \n",
    "FROM mimiciv_hosp.d_labitems \n",
    "WHERE LOWER(label) LIKE '%platelet count%';\n",
    "\"\"\")"
   ]
  },
  {
   "cell_type": "code",
   "execution_count": null,
   "metadata": {},
   "outputs": [],
   "source": [
    "q(\"\"\"\n",
    "SELECT * \n",
    "FROM mimiciv_hosp.d_labitems \n",
    "WHERE fluid = 'Blood' AND LOWER(label) LIKE '%white%';\n",
    "\"\"\")"
   ]
  },
  {
   "cell_type": "code",
   "execution_count": null,
   "metadata": {},
   "outputs": [],
   "source": [
    "q(\"\"\"\n",
    "SELECT * \n",
    "FROM mimiciv_hosp.d_labitems \n",
    "WHERE fluid = 'Blood' AND LOWER(label) LIKE 'red blood cells';\n",
    "\"\"\")"
   ]
  },
  {
   "cell_type": "code",
   "execution_count": null,
   "metadata": {},
   "outputs": [],
   "source": [
    "q(\"\"\"\n",
    "SELECT * \n",
    "FROM mimiciv_hosp.d_labitems \n",
    "WHERE fluid = 'Blood' AND LOWER(label) LIKE '%neutrophil%';\n",
    "\"\"\")"
   ]
  },
  {
   "cell_type": "code",
   "execution_count": null,
   "metadata": {},
   "outputs": [],
   "source": [
    "q(\"\"\"\n",
    "SELECT * \n",
    "FROM mimiciv_hosp.d_labitems \n",
    "WHERE fluid = 'Blood' AND LOWER(label) LIKE '%lympho%';\n",
    "\"\"\")"
   ]
  },
  {
   "cell_type": "code",
   "execution_count": null,
   "metadata": {},
   "outputs": [],
   "source": [
    "q(\"\"\"\n",
    "SELECT * \n",
    "FROM mimiciv_hosp.d_labitems \n",
    "WHERE fluid = 'Blood' AND LOWER(label) LIKE '%monocyte%';\n",
    "\"\"\")"
   ]
  },
  {
   "cell_type": "code",
   "execution_count": null,
   "metadata": {},
   "outputs": [],
   "source": [
    "q(\"\"\"\n",
    "SELECT * \n",
    "FROM mimiciv_hosp.d_labitems \n",
    "WHERE fluid = 'Blood' AND LOWER(label) LIKE '%eosinophil%';\n",
    "\"\"\")"
   ]
  },
  {
   "cell_type": "code",
   "execution_count": null,
   "metadata": {},
   "outputs": [],
   "source": [
    "q(\"\"\"\n",
    "SELECT * \n",
    "FROM mimiciv_hosp.d_labitems \n",
    "WHERE fluid = 'Blood' AND LOWER(label) LIKE '%basophil%';\n",
    "\"\"\")"
   ]
  },
  {
   "cell_type": "code",
   "execution_count": null,
   "metadata": {},
   "outputs": [],
   "source": [
    "q(\"\"\"\n",
    "SELECT * \n",
    "FROM mimiciv_hosp.d_labitems \n",
    "WHERE fluid = 'Blood' AND LOWER(label) LIKE '%immature%';\n",
    "\"\"\")"
   ]
  },
  {
   "cell_type": "markdown",
   "metadata": {},
   "source": [
    "### Blood Pressure"
   ]
  },
  {
   "cell_type": "code",
   "execution_count": null,
   "metadata": {},
   "outputs": [],
   "source": [
    "blood_pressure = q(\"\"\"\n",
    "WITH subject_measure AS (\n",
    "    SELECT subject_id, chartdate, seq_num, result_value, \n",
    "        ROW_NUMBER() OVER (PARTITION BY subject_id ORDER BY chartdate, seq_num) AS measure_num\n",
    "    FROM mimiciv_hosp.omr\n",
    "    WHERE LOWER(result_name) LIKE 'blood pressure%' AND result_value NOT NULL\n",
    "),\n",
    "max_measure AS (\n",
    "    SELECT *, MAX(measure_num) OVER (PARTITION BY subject_id) AS max_num\n",
    "    FROM subject_measure\n",
    "),\n",
    "last_measure AS (\n",
    "    SELECT *, subject_id, result_value\n",
    "    FROM max_measure\n",
    "    WHERE measure_num = max_num\n",
    ")\n",
    "SELECT subject_id,\n",
    "    CAST(regexp_extract(result_value, '(\\\\d+)/\\\\d+', 1) AS SMALLINT) AS bp_systolic,\n",
    "    CAST(regexp_extract(result_value, '\\\\d+/(\\\\d+)', 1) AS SMALLINT) AS bp_diastolic\n",
    "FROM last_measure\n",
    "\"\"\")"
   ]
  },
  {
   "cell_type": "markdown",
   "metadata": {},
   "source": [
    "### Oxygen"
   ]
  },
  {
   "cell_type": "code",
   "execution_count": null,
   "metadata": {},
   "outputs": [],
   "source": [
    "oxygen = lab_table_last((50816, 50817), \"oxygen\")"
   ]
  },
  {
   "cell_type": "markdown",
   "metadata": {},
   "source": [
    "### NT-proBNP"
   ]
  },
  {
   "cell_type": "code",
   "execution_count": null,
   "metadata": {},
   "outputs": [],
   "source": [
    "nt_probnp = lab_table_last(50963, \"nt_probnp\")"
   ]
  },
  {
   "cell_type": "markdown",
   "metadata": {},
   "source": [
    "### Creatinine"
   ]
  },
  {
   "cell_type": "code",
   "execution_count": null,
   "metadata": {},
   "outputs": [],
   "source": [
    "creatinine = lab_table_last((50912, 52024, 52546, 51081), \"creatinine\")"
   ]
  },
  {
   "cell_type": "markdown",
   "metadata": {},
   "source": [
    "### Blood Urea Nitrogen"
   ]
  },
  {
   "cell_type": "code",
   "execution_count": null,
   "metadata": {},
   "outputs": [],
   "source": [
    "bun = lab_table_last((51006, 52647), \"bun\")"
   ]
  },
  {
   "cell_type": "markdown",
   "metadata": {},
   "source": [
    "### Sodium"
   ]
  },
  {
   "cell_type": "code",
   "execution_count": null,
   "metadata": {},
   "outputs": [],
   "source": [
    "sodium = lab_table_last((50824, 50983, 52455, 52623), \"sodium\")"
   ]
  },
  {
   "cell_type": "markdown",
   "metadata": {},
   "source": [
    "### Potassium"
   ]
  },
  {
   "cell_type": "code",
   "execution_count": null,
   "metadata": {},
   "outputs": [],
   "source": [
    "potassium = lab_table_last((50822, 50971, 52452, 52610), \"potassium\")"
   ]
  },
  {
   "cell_type": "markdown",
   "metadata": {},
   "source": [
    "### AST"
   ]
  },
  {
   "cell_type": "code",
   "execution_count": null,
   "metadata": {},
   "outputs": [],
   "source": [
    "ast = lab_table_last((50878, 53088), \"ast\")"
   ]
  },
  {
   "cell_type": "markdown",
   "metadata": {},
   "source": [
    "### ALT"
   ]
  },
  {
   "cell_type": "code",
   "execution_count": null,
   "metadata": {},
   "outputs": [],
   "source": [
    "alt = lab_table_last((50861, 53084), \"alt\")"
   ]
  },
  {
   "cell_type": "markdown",
   "metadata": {},
   "source": [
    "### Troponin"
   ]
  },
  {
   "cell_type": "code",
   "execution_count": null,
   "metadata": {},
   "outputs": [],
   "source": [
    "troponin = lab_table_last(51003, \"troponin\")"
   ]
  },
  {
   "cell_type": "markdown",
   "metadata": {},
   "source": [
    "### Complete Blood Count"
   ]
  },
  {
   "cell_type": "markdown",
   "metadata": {},
   "source": [
    "#### Hemoglobin"
   ]
  },
  {
   "cell_type": "code",
   "execution_count": null,
   "metadata": {},
   "outputs": [],
   "source": [
    "hgb = lab_table_last((50811, 51222, 51640), \"hgb\")"
   ]
  },
  {
   "cell_type": "markdown",
   "metadata": {},
   "source": [
    "#### Hematocrit"
   ]
  },
  {
   "cell_type": "code",
   "execution_count": null,
   "metadata": {},
   "outputs": [],
   "source": [
    "hct = lab_table_last((50810, 51221, 51638, 51639, 52028), \"hct\")"
   ]
  },
  {
   "cell_type": "markdown",
   "metadata": {},
   "source": [
    "#### MCV"
   ]
  },
  {
   "cell_type": "code",
   "execution_count": null,
   "metadata": {},
   "outputs": [],
   "source": [
    "mcv = lab_table_last((51250, 51691), \"mcv\")"
   ]
  },
  {
   "cell_type": "markdown",
   "metadata": {},
   "source": [
    "#### MCH"
   ]
  },
  {
   "cell_type": "code",
   "execution_count": null,
   "metadata": {},
   "outputs": [],
   "source": [
    "mch = lab_table_last(51248, \"mch\")"
   ]
  },
  {
   "cell_type": "markdown",
   "metadata": {},
   "source": [
    "#### MCHC"
   ]
  },
  {
   "cell_type": "code",
   "execution_count": null,
   "metadata": {},
   "outputs": [],
   "source": [
    "mchc = lab_table_last(51249, \"mchc\")"
   ]
  },
  {
   "cell_type": "markdown",
   "metadata": {},
   "source": [
    "#### RDW"
   ]
  },
  {
   "cell_type": "code",
   "execution_count": null,
   "metadata": {},
   "outputs": [],
   "source": [
    "rdw = lab_table_last(51277, \"rdw\")"
   ]
  },
  {
   "cell_type": "markdown",
   "metadata": {},
   "source": [
    "#### Platelet Count"
   ]
  },
  {
   "cell_type": "code",
   "execution_count": null,
   "metadata": {},
   "outputs": [],
   "source": [
    "plt = lab_table_last((51265, 51704), \"plt\")"
   ]
  },
  {
   "cell_type": "markdown",
   "metadata": {},
   "source": [
    "#### White Blood Cell Count"
   ]
  },
  {
   "cell_type": "code",
   "execution_count": null,
   "metadata": {},
   "outputs": [],
   "source": [
    "wbc = lab_table_last((51301, 51755, 51756), \"wbc\")"
   ]
  },
  {
   "cell_type": "markdown",
   "metadata": {},
   "source": [
    "#### Red Blood Cell Count"
   ]
  },
  {
   "cell_type": "code",
   "execution_count": null,
   "metadata": {},
   "outputs": [],
   "source": [
    "rbc = lab_table_last(51279, \"rbc\")"
   ]
  },
  {
   "cell_type": "markdown",
   "metadata": {},
   "source": [
    "#### Neutrophil"
   ]
  },
  {
   "cell_type": "code",
   "execution_count": null,
   "metadata": {},
   "outputs": [],
   "source": [
    "neutrophil_p = lab_table_last(51256, \"neutrophil_p\")\n",
    "neutrophil_c = lab_table_last_wbc((52075, 53133), \"neutrophil_c\")"
   ]
  },
  {
   "cell_type": "markdown",
   "metadata": {},
   "source": [
    "#### Lymphocyte"
   ]
  },
  {
   "cell_type": "code",
   "execution_count": null,
   "metadata": {},
   "outputs": [],
   "source": [
    "lymphocyte_p = lab_table_last((51244, 51245, 51690), \"lymphocyte_p\")\n",
    "lymphocyte_c = lab_table_last_wbc((51133, 52769, 53132), \"lymphocyte_c\")"
   ]
  },
  {
   "cell_type": "markdown",
   "metadata": {},
   "source": [
    "#### Monocyte"
   ]
  },
  {
   "cell_type": "code",
   "execution_count": null,
   "metadata": {},
   "outputs": [],
   "source": [
    "monocyte_p = lab_table_last(51254, \"monocyte_p\")\n",
    "monocyte_c = lab_table_last_wbc((51253, 52074), \"monocyte_c\")"
   ]
  },
  {
   "cell_type": "markdown",
   "metadata": {},
   "source": [
    "#### Eosinophil"
   ]
  },
  {
   "cell_type": "code",
   "execution_count": null,
   "metadata": {},
   "outputs": [],
   "source": [
    "eosinophil_p = lab_table_last(51200, \"eosinophil_p\")\n",
    "eosinophil_c = lab_table_last_wbc((51199, 52073), \"eosinophil_c\")"
   ]
  },
  {
   "cell_type": "markdown",
   "metadata": {},
   "source": [
    "#### Basophil"
   ]
  },
  {
   "cell_type": "code",
   "execution_count": null,
   "metadata": {},
   "outputs": [],
   "source": [
    "basophil_p = lab_table_last(51146, \"basophil_p\")\n",
    "basophil_c = lab_table_last_wbc(52069, \"basophil_c\")"
   ]
  },
  {
   "cell_type": "markdown",
   "metadata": {},
   "source": [
    "#### Immature Granulocytes"
   ]
  },
  {
   "cell_type": "code",
   "execution_count": null,
   "metadata": {},
   "outputs": [],
   "source": [
    "immature_gran_p = lab_table_last(52135, \"immature_gran_p\")"
   ]
  },
  {
   "cell_type": "markdown",
   "metadata": {},
   "source": [
    "# Join Tables"
   ]
  },
  {
   "cell_type": "code",
   "execution_count": null,
   "metadata": {},
   "outputs": [],
   "source": [
    "final = q(\"\"\"\n",
    "SELECT *\n",
    "FROM diagnoses\n",
    "    LEFT JOIN demographics\n",
    "    USING (subject_id)\n",
    "    \n",
    "    LEFT JOIN medications\n",
    "    USING (subject_id)\n",
    "    \n",
    "    LEFT JOIN blood_pressure\n",
    "    USING (subject_id)\n",
    "    \n",
    "    LEFT JOIN oxygen\n",
    "    USING (subject_id)\n",
    "          \n",
    "    LEFT JOIN nt_probnp\n",
    "    USING (subject_id)\n",
    "    \n",
    "    LEFT JOIN creatinine\n",
    "    USING (subject_id)\n",
    "          \n",
    "    LEFT JOIN bun\n",
    "    USING (subject_id)\n",
    "    \n",
    "    LEFT JOIN sodium\n",
    "    USING (subject_id)\n",
    "    \n",
    "    LEFT JOIN potassium\n",
    "    USING (subject_id)\n",
    "    \n",
    "    LEFT JOIN ast\n",
    "    USING (subject_id)\n",
    "    \n",
    "    LEFT JOIN alt\n",
    "    USING (subject_id)\n",
    "    \n",
    "    LEFT JOIN troponin\n",
    "    USING (subject_id)\n",
    "    \n",
    "    LEFT JOIN hgb\n",
    "    USING (subject_id)\n",
    "    \n",
    "    LEFT JOIN hct\n",
    "    USING (subject_id)\n",
    "    \n",
    "    LEFT JOIN mcv\n",
    "    USING (subject_id)\n",
    "    \n",
    "    LEFT JOIN mch\n",
    "    USING (subject_id)\n",
    "    \n",
    "    LEFT JOIN mchc\n",
    "    USING (subject_id)\n",
    "    \n",
    "    LEFT JOIN rdw\n",
    "    USING (subject_id)\n",
    "    \n",
    "    LEFT JOIN plt\n",
    "    USING (subject_id)\n",
    "    \n",
    "    LEFT JOIN wbc\n",
    "    USING (subject_id)\n",
    "    \n",
    "    LEFT JOIN rbc\n",
    "    USING (subject_id)\n",
    "    \n",
    "    LEFT JOIN neutrophil_p\n",
    "    USING (subject_id)\n",
    "    \n",
    "    LEFT JOIN neutrophil_c\n",
    "    USING (subject_id)\n",
    "    \n",
    "    LEFT JOIN lymphocyte_p\n",
    "    USING (subject_id)\n",
    "    \n",
    "    LEFT JOIN lymphocyte_c\n",
    "    USING (subject_id)\n",
    "    \n",
    "    LEFT JOIN monocyte_p\n",
    "    USING (subject_id)\n",
    "    \n",
    "    LEFT JOIN monocyte_c\n",
    "    USING (subject_id)\n",
    "    \n",
    "    LEFT JOIN eosinophil_p\n",
    "    USING (subject_id)\n",
    "    \n",
    "    LEFT JOIN eosinophil_c\n",
    "    USING (subject_id)\n",
    "    \n",
    "    LEFT JOIN basophil_p\n",
    "    USING (subject_id)\n",
    "    \n",
    "    LEFT JOIN basophil_c\n",
    "    USING (subject_id)\n",
    "    \n",
    "    LEFT JOIN immature_gran_p\n",
    "    USING (subject_id)\n",
    ";\"\"\")"
   ]
  },
  {
   "cell_type": "code",
   "execution_count": null,
   "metadata": {},
   "outputs": [],
   "source": [
    "q(\"\"\"\n",
    "COPY final\n",
    "    TO 'mimic4_hosp_dataset_patients1.parquet'\n",
    "    (FORMAT 'parquet', CODEC 'zstd');\n",
    "\"\"\")"
   ]
  },
  {
   "cell_type": "markdown",
   "metadata": {},
   "source": [
    "# Clean Data"
   ]
  },
  {
   "cell_type": "code",
   "execution_count": null,
   "metadata": {},
   "outputs": [],
   "source": [
    "data = pl.read_parquet(\"mimic4_hosp_dataset_patients1.parquet\")"
   ]
  },
  {
   "cell_type": "code",
   "execution_count": null,
   "metadata": {},
   "outputs": [],
   "source": [
    "data2 = data.cast(\n",
    "    {cs.integer() & ~cs.contains(\"_id\") & ~cs.contains(\"bp_\"): pl.Int8}\n",
    ").with_columns(\n",
    "    pl.col(\"oxygen\").map_elements(lambda x: pl.Null if x > 100 else x, return_dtype=pl.Float64)\n",
    ").select(\n",
    "    cs.string(),\n",
    "    cs.integer(),\n",
    "    cs.float()\n",
    ")"
   ]
  },
  {
   "cell_type": "code",
   "execution_count": null,
   "metadata": {},
   "outputs": [],
   "source": [
    "data2.write_parquet(\"mimic4_hosp_dataset_patients.parquet\")"
   ]
  }
 ],
 "metadata": {
  "kernelspec": {
   "display_name": "Python 3",
   "language": "python",
   "name": "python3"
  },
  "language_info": {
   "codemirror_mode": {
    "name": "ipython",
    "version": 3
   },
   "file_extension": ".py",
   "mimetype": "text/x-python",
   "name": "python",
   "nbconvert_exporter": "python",
   "pygments_lexer": "ipython3",
   "version": "3.12.3"
  }
 },
 "nbformat": 4,
 "nbformat_minor": 2
}
